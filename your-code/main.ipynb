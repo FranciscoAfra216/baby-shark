{
 "cells": [
  {
   "cell_type": "markdown",
   "metadata": {},
   "source": [
    "# Intrduction to NumPy\n",
    "\n",
    "\n",
    "#### 1. Import NumPy under the name np."
   ]
  },
  {
   "cell_type": "code",
   "execution_count": 1,
   "metadata": {},
   "outputs": [],
   "source": [
    "import numpy as np"
   ]
  },
  {
   "cell_type": "markdown",
   "metadata": {},
   "source": [
    "#### 2. Print your NumPy version."
   ]
  },
  {
   "cell_type": "code",
   "execution_count": 2,
   "metadata": {},
   "outputs": [
    {
     "name": "stdout",
     "output_type": "stream",
     "text": [
      "1.18.1\n"
     ]
    }
   ],
   "source": [
    "print(np.__version__)"
   ]
  },
  {
   "cell_type": "markdown",
   "metadata": {},
   "source": [
    "#### 3. Generate a 2x3x5 3-dimensional array with random values. Assign the array to variable *a*.\n",
    "**Challenge**: there are at least three easy ways that use numpy to generate random arrays. How many ways can you find?"
   ]
  },
  {
   "cell_type": "code",
   "execution_count": 3,
   "metadata": {},
   "outputs": [
    {
     "name": "stdout",
     "output_type": "stream",
     "text": [
      "[[[0.89193187 0.22687718 0.26259857 0.98598927 0.44621086]\n",
      "  [0.64911275 0.46556859 0.96217413 0.80788053 0.38051882]\n",
      "  [0.24413499 0.18880309 0.30923462 0.91995406 0.28221702]]\n",
      "\n",
      " [[0.63108092 0.09493746 0.08862415 0.47478516 0.9207403 ]\n",
      "  [0.19434336 0.14226195 0.09152265 0.36308007 0.78710363]\n",
      "  [0.94989265 0.80426551 0.71105079 0.15865488 0.3448407 ]]]\n"
     ]
    }
   ],
   "source": [
    "a = np.random.random((2,3,5))\n",
    "print(a)"
   ]
  },
  {
   "cell_type": "code",
   "execution_count": 4,
   "metadata": {},
   "outputs": [
    {
     "name": "stdout",
     "output_type": "stream",
     "text": [
      "[[[0.21130237 0.95133111 0.59166891 0.4256457  0.77565042]\n",
      "  [0.60351025 0.60226144 0.73408382 0.56807673 0.23497305]\n",
      "  [0.57500095 0.05302707 0.66644387 0.84884598 0.95843441]]\n",
      "\n",
      " [[0.83759993 0.32293879 0.3026453  0.09628351 0.53642252]\n",
      "  [0.92726686 0.844723   0.13579238 0.05341637 0.91201427]\n",
      "  [0.36335834 0.30976461 0.26402407 0.11912653 0.34845752]]]\n"
     ]
    }
   ],
   "source": [
    "a2 = np.random.rand(2,3,5)\n",
    "print(a2)"
   ]
  },
  {
   "cell_type": "code",
   "execution_count": 5,
   "metadata": {},
   "outputs": [
    {
     "name": "stdout",
     "output_type": "stream",
     "text": [
      "[[[0.21130237 0.95133111 0.59166891 0.4256457  0.77565042]\n",
      "  [0.60351025 0.60226144 0.73408382 0.56807673 0.23497305]\n",
      "  [0.57500095 0.05302707 0.66644387 0.84884598 0.95843441]]\n",
      "\n",
      " [[0.83759993 0.32293879 0.3026453  0.09628351 0.53642252]\n",
      "  [0.92726686 0.844723   0.13579238 0.05341637 0.91201427]\n",
      "  [0.36335834 0.30976461 0.26402407 0.11912653 0.34845752]]]\n"
     ]
    }
   ],
   "source": [
    "a3 = np.empty((2,3,5))\n",
    "print(a3)"
   ]
  },
  {
   "cell_type": "markdown",
   "metadata": {},
   "source": [
    "#### 4. Print *a*.\n"
   ]
  },
  {
   "cell_type": "code",
   "execution_count": 6,
   "metadata": {},
   "outputs": [
    {
     "name": "stdout",
     "output_type": "stream",
     "text": [
      "[[[0.89193187 0.22687718 0.26259857 0.98598927 0.44621086]\n",
      "  [0.64911275 0.46556859 0.96217413 0.80788053 0.38051882]\n",
      "  [0.24413499 0.18880309 0.30923462 0.91995406 0.28221702]]\n",
      "\n",
      " [[0.63108092 0.09493746 0.08862415 0.47478516 0.9207403 ]\n",
      "  [0.19434336 0.14226195 0.09152265 0.36308007 0.78710363]\n",
      "  [0.94989265 0.80426551 0.71105079 0.15865488 0.3448407 ]]]\n"
     ]
    }
   ],
   "source": [
    "print(a)"
   ]
  },
  {
   "cell_type": "markdown",
   "metadata": {},
   "source": [
    "#### 5. Create a 5x2x3 3-dimensional array with all values equaling 1. Assign the array to variable *b*."
   ]
  },
  {
   "cell_type": "code",
   "execution_count": 7,
   "metadata": {},
   "outputs": [],
   "source": [
    "b = np.ones((5,2,3))"
   ]
  },
  {
   "cell_type": "markdown",
   "metadata": {},
   "source": [
    "#### 6. Print *b*.\n"
   ]
  },
  {
   "cell_type": "code",
   "execution_count": 8,
   "metadata": {},
   "outputs": [
    {
     "name": "stdout",
     "output_type": "stream",
     "text": [
      "[[[1. 1. 1.]\n",
      "  [1. 1. 1.]]\n",
      "\n",
      " [[1. 1. 1.]\n",
      "  [1. 1. 1.]]\n",
      "\n",
      " [[1. 1. 1.]\n",
      "  [1. 1. 1.]]\n",
      "\n",
      " [[1. 1. 1.]\n",
      "  [1. 1. 1.]]\n",
      "\n",
      " [[1. 1. 1.]\n",
      "  [1. 1. 1.]]]\n"
     ]
    }
   ],
   "source": [
    "print(b)"
   ]
  },
  {
   "cell_type": "markdown",
   "metadata": {},
   "source": [
    "#### 7. Do *a* and *b* have the same size? How do you prove that in Python code?"
   ]
  },
  {
   "cell_type": "code",
   "execution_count": 9,
   "metadata": {},
   "outputs": [],
   "source": [
    "#is_same_size = np.multiply(a,b)\n",
    "#print(is_same_size)\n",
    "#operands could not be broadcast together with shapes (2,3,5) (5,2,3) ----> Different shapes! Different sizes!"
   ]
  },
  {
   "cell_type": "markdown",
   "metadata": {},
   "source": [
    "#### 8. Are you able to add *a* and *b*? Why or why not?\n"
   ]
  },
  {
   "cell_type": "code",
   "execution_count": 10,
   "metadata": {},
   "outputs": [],
   "source": [
    "# In order to combine (i.e. multiply, subtract, sum....) 2 arrays they must have the same shape!!"
   ]
  },
  {
   "cell_type": "markdown",
   "metadata": {},
   "source": [
    "#### 9. Transpose *b* so that it has the same structure of *a* (i.e. become a 2x3x5 array). Assign the transposed array to variable *c*."
   ]
  },
  {
   "cell_type": "code",
   "execution_count": 11,
   "metadata": {},
   "outputs": [
    {
     "name": "stdout",
     "output_type": "stream",
     "text": [
      "[[[1. 1. 1. 1. 1.]\n",
      "  [1. 1. 1. 1. 1.]\n",
      "  [1. 1. 1. 1. 1.]]\n",
      "\n",
      " [[1. 1. 1. 1. 1.]\n",
      "  [1. 1. 1. 1. 1.]\n",
      "  [1. 1. 1. 1. 1.]]]\n",
      "(2, 3, 5)\n",
      "(2, 3, 5)\n"
     ]
    }
   ],
   "source": [
    "c = np.reshape(b,(2,3,5))\n",
    "print(c)\n",
    "print(np.shape(c))\n",
    "print(np.shape(a))"
   ]
  },
  {
   "cell_type": "markdown",
   "metadata": {},
   "source": [
    "#### 10. Try to add *a* and *c*. Now it should work. Assign the sum to variable *d*. But why does it work now?"
   ]
  },
  {
   "cell_type": "code",
   "execution_count": 12,
   "metadata": {},
   "outputs": [
    {
     "name": "stdout",
     "output_type": "stream",
     "text": [
      "(2, 3, 5)\n",
      "(2, 3, 5)\n"
     ]
    }
   ],
   "source": [
    "print(a.shape)\n",
    "print(c.shape)\n",
    "d = np.add(a,c)\n",
    "\n",
    "# In order to combine (i.e. multiply, subtract, sum....) 2 arrays they must have the same shape!! That's why it works!\n"
   ]
  },
  {
   "cell_type": "markdown",
   "metadata": {},
   "source": [
    "#### 11. Print *a* and *d*. Notice the difference and relation of the two array in terms of the values? Explain."
   ]
  },
  {
   "cell_type": "code",
   "execution_count": 13,
   "metadata": {},
   "outputs": [
    {
     "name": "stdout",
     "output_type": "stream",
     "text": [
      "[[[0.89193187 0.22687718 0.26259857 0.98598927 0.44621086]\n",
      "  [0.64911275 0.46556859 0.96217413 0.80788053 0.38051882]\n",
      "  [0.24413499 0.18880309 0.30923462 0.91995406 0.28221702]]\n",
      "\n",
      " [[0.63108092 0.09493746 0.08862415 0.47478516 0.9207403 ]\n",
      "  [0.19434336 0.14226195 0.09152265 0.36308007 0.78710363]\n",
      "  [0.94989265 0.80426551 0.71105079 0.15865488 0.3448407 ]]]\n",
      "\n",
      "\n",
      "\n",
      "[[[1.89193187 1.22687718 1.26259857 1.98598927 1.44621086]\n",
      "  [1.64911275 1.46556859 1.96217413 1.80788053 1.38051882]\n",
      "  [1.24413499 1.18880309 1.30923462 1.91995406 1.28221702]]\n",
      "\n",
      " [[1.63108092 1.09493746 1.08862415 1.47478516 1.9207403 ]\n",
      "  [1.19434336 1.14226195 1.09152265 1.36308007 1.78710363]\n",
      "  [1.94989265 1.80426551 1.71105079 1.15865488 1.3448407 ]]]\n",
      "\n",
      "\n",
      "\n",
      "<class 'numpy.ndarray'>\n",
      "(2, 3, 5)\n",
      "<class 'numpy.ndarray'>\n",
      "0.8919318709330749\n",
      "\n",
      "\n",
      "\n",
      "1.891931870933075\n",
      "<class 'numpy.float64'>\n",
      "<class 'numpy.float64'>\n"
     ]
    }
   ],
   "source": [
    "print(a)\n",
    "print(\"\\n\\n\")\n",
    "# array a --> is 2x3x5 3-dimensional array ---> 2 groups of arrays, consisted in 3 lines each group and 5 columns each group\n",
    "print(d)\n",
    "print(\"\\n\\n\")\n",
    "# array d --> is 2x3x5 3-dimensional array ---> 2 groups of arrays, consisted in 3 lines each group and 5 columns each group\n",
    "\n",
    "print(type(a))\n",
    "\n",
    "print(np.shape(d))\n",
    "print(type(d))\n",
    "\n",
    "print(a[0,0,0])\n",
    "print(\"\\n\\n\")\n",
    "print(d[0,0,0])\n",
    "\n",
    "print(type(a[0,0,0]))\n",
    "\n",
    "print(type(d[0,0,0]))\n",
    "\n",
    "#We are adding (2,3,5) 3-dimensional array 'c' full of 1s to array 'a', which mean all values on 'a' get summed 1."
   ]
  },
  {
   "cell_type": "markdown",
   "metadata": {},
   "source": [
    "#### 12. Multiply *a* and *c*. Assign the result to *e*."
   ]
  },
  {
   "cell_type": "code",
   "execution_count": 14,
   "metadata": {},
   "outputs": [
    {
     "name": "stdout",
     "output_type": "stream",
     "text": [
      "(2, 3, 5)\n",
      "(2, 3, 5)\n",
      "[[[0.89193187 0.22687718 0.26259857 0.98598927 0.44621086]\n",
      "  [0.64911275 0.46556859 0.96217413 0.80788053 0.38051882]\n",
      "  [0.24413499 0.18880309 0.30923462 0.91995406 0.28221702]]\n",
      "\n",
      " [[0.63108092 0.09493746 0.08862415 0.47478516 0.9207403 ]\n",
      "  [0.19434336 0.14226195 0.09152265 0.36308007 0.78710363]\n",
      "  [0.94989265 0.80426551 0.71105079 0.15865488 0.3448407 ]]]\n"
     ]
    }
   ],
   "source": [
    "e = np.multiply(a,c)\n",
    "print(np.shape(a))\n",
    "print(np.shape(c))\n",
    "print(e)"
   ]
  },
  {
   "cell_type": "markdown",
   "metadata": {},
   "source": [
    "#### 13. Does *e* equal to *a*? Why or why not?\n"
   ]
  },
  {
   "cell_type": "code",
   "execution_count": 15,
   "metadata": {},
   "outputs": [
    {
     "name": "stdout",
     "output_type": "stream",
     "text": [
      "(2, 3, 5)\n",
      "(2, 3, 5)\n",
      "[[[0.89193187 0.22687718 0.26259857 0.98598927 0.44621086]\n",
      "  [0.64911275 0.46556859 0.96217413 0.80788053 0.38051882]\n",
      "  [0.24413499 0.18880309 0.30923462 0.91995406 0.28221702]]\n",
      "\n",
      " [[0.63108092 0.09493746 0.08862415 0.47478516 0.9207403 ]\n",
      "  [0.19434336 0.14226195 0.09152265 0.36308007 0.78710363]\n",
      "  [0.94989265 0.80426551 0.71105079 0.15865488 0.3448407 ]]]\n",
      "\n",
      "\n",
      "\n",
      "[[[0.89193187 0.22687718 0.26259857 0.98598927 0.44621086]\n",
      "  [0.64911275 0.46556859 0.96217413 0.80788053 0.38051882]\n",
      "  [0.24413499 0.18880309 0.30923462 0.91995406 0.28221702]]\n",
      "\n",
      " [[0.63108092 0.09493746 0.08862415 0.47478516 0.9207403 ]\n",
      "  [0.19434336 0.14226195 0.09152265 0.36308007 0.78710363]\n",
      "  [0.94989265 0.80426551 0.71105079 0.15865488 0.3448407 ]]]\n"
     ]
    },
    {
     "data": {
      "text/plain": [
       "array([[[ True,  True,  True,  True,  True],\n",
       "        [ True,  True,  True,  True,  True],\n",
       "        [ True,  True,  True,  True,  True]],\n",
       "\n",
       "       [[ True,  True,  True,  True,  True],\n",
       "        [ True,  True,  True,  True,  True],\n",
       "        [ True,  True,  True,  True,  True]]])"
      ]
     },
     "execution_count": 15,
     "metadata": {},
     "output_type": "execute_result"
    }
   ],
   "source": [
    "print(np.shape(a))\n",
    "print(np.shape(e))\n",
    "\n",
    "print(a)\n",
    "print(\"\\n\\n\")\n",
    "print(e)\n",
    "\n",
    "e == a\n",
    "#the way we got 'e', was by multiplying a with an array full of 1s\n",
    "#herefore e==1, 1 is the neutral element of multiplication"
   ]
  },
  {
   "cell_type": "markdown",
   "metadata": {},
   "source": [
    "#### 14. Identify the max, min, and mean values in *d*. Assign those values to variables *d_max*, *d_min* and *d_mean*."
   ]
  },
  {
   "cell_type": "code",
   "execution_count": 16,
   "metadata": {},
   "outputs": [
    {
     "name": "stdout",
     "output_type": "stream",
     "text": [
      "1.9859892653361007\n",
      "1.0886241522186084\n",
      "1.4926796846465484\n"
     ]
    }
   ],
   "source": [
    "d_max = np.max(d)\n",
    "d_min = np.min(d)\n",
    "d_mean = np.mean(d)\n",
    "\n",
    "print(d_max)\n",
    "print(d_min)\n",
    "print(d_mean)"
   ]
  },
  {
   "cell_type": "markdown",
   "metadata": {},
   "source": [
    "#### 15. Now we want to label the values in *d*. First create an empty array *f* with the same shape (i.e. 2x3x5) as *d* using `np.empty`.\n"
   ]
  },
  {
   "cell_type": "code",
   "execution_count": 17,
   "metadata": {},
   "outputs": [
    {
     "name": "stdout",
     "output_type": "stream",
     "text": [
      "[[[0.89193187 0.22687718 0.26259857 0.98598927 0.44621086]\n",
      "  [0.64911275 0.46556859 0.96217413 0.80788053 0.38051882]\n",
      "  [0.24413499 0.18880309 0.30923462 0.91995406 0.28221702]]\n",
      "\n",
      " [[0.63108092 0.09493746 0.08862415 0.47478516 0.9207403 ]\n",
      "  [0.19434336 0.14226195 0.09152265 0.36308007 0.78710363]\n",
      "  [0.94989265 0.80426551 0.71105079 0.15865488 0.3448407 ]]]\n"
     ]
    }
   ],
   "source": [
    "f = np.empty((2,3,5))\n",
    "print(f)"
   ]
  },
  {
   "cell_type": "markdown",
   "metadata": {},
   "source": [
    "#### 16. Populate the values in *f*. \n",
    "\n",
    "For each value in *d*, if it's larger than *d_min* but smaller than *d_mean*, assign 25 to the corresponding value in *f*. If a value in *d* is larger than *d_mean* but smaller than *d_max*, assign 75 to the corresponding value in *f*. If a value equals to *d_mean*, assign 50 to the corresponding value in *f*. Assign 0 to the corresponding value(s) in *f* for *d_min* in *d*. Assign 100 to the corresponding value(s) in *f* for *d_max* in *d*. In the end, f should have only the following values: 0, 25, 50, 75, and 100.\n",
    "\n",
    "**Note**: you don't have to use Numpy in this question."
   ]
  },
  {
   "cell_type": "code",
   "execution_count": 18,
   "metadata": {},
   "outputs": [
    {
     "name": "stdout",
     "output_type": "stream",
     "text": [
      "[[[1.89193187 1.22687718 1.26259857 1.98598927 1.44621086]\n",
      "  [1.64911275 1.46556859 1.96217413 1.80788053 1.38051882]\n",
      "  [1.24413499 1.18880309 1.30923462 1.91995406 1.28221702]]\n",
      "\n",
      " [[1.63108092 1.09493746 1.08862415 1.47478516 1.9207403 ]\n",
      "  [1.19434336 1.14226195 1.09152265 1.36308007 1.78710363]\n",
      "  [1.94989265 1.80426551 1.71105079 1.15865488 1.3448407 ]]]\n",
      "[[[ 75.  25.  25. 100.  25.]\n",
      "  [ 75.  25.  75.  75.  25.]\n",
      "  [ 25.  25.  25.  75.  25.]]\n",
      "\n",
      " [[ 75.  25.   0.  25.  75.]\n",
      "  [ 25.  25.  25.  25.  75.]\n",
      "  [ 75.  75.  75.  25.  25.]]]\n"
     ]
    }
   ],
   "source": [
    "f = np.copy(d)\n",
    "f[f == d_min] = 0\n",
    "f[(f>d_min) & (f<d_mean)] = 25\n",
    "f[(f == d_mean)] = 50\n",
    "f[(f>d_mean) & (f<d_max)] = 75\n",
    "f[f == d_max] = 100\n",
    "\n",
    "print(d)\n",
    "\n",
    "print(f)"
   ]
  },
  {
   "cell_type": "markdown",
   "metadata": {},
   "source": [
    "#### 17. Print *d* and *f*. Do you have your expected *f*?\n",
    "For instance, if your *d* is:\n",
    "```python\n",
    "[[[1.85836099, 1.67064465, 1.62576044, 1.40243961, 1.88454931],\n",
    "[1.75354326, 1.69403643, 1.36729252, 1.61415071, 1.12104981],\n",
    "[1.72201435, 1.1862918 , 1.87078449, 1.7726778 , 1.88180042]],\n",
    "[[1.44747908, 1.31673383, 1.02000951, 1.52218947, 1.97066381],\n",
    "[1.79129243, 1.74983003, 1.96028037, 1.85166831, 1.65450881],\n",
    "[1.18068344, 1.9587381 , 1.00656599, 1.93402165, 1.73514584]]]\n",
    "```\n",
    "Your *f* should be:\n",
    "```python\n",
    "[[[ 75.,  75.,  75.,  25.,  75.],\n",
    "[ 75.,  75.,  25.,  25.,  25.],\n",
    "[ 75.,  25.,  75.,  75.,  75.]],\n",
    "[[ 25.,  25.,  25.,  25., 100.],\n",
    "[ 75.,  75.,  75.,  75.,  75.],\n",
    "[ 25.,  75.,   0.,  75.,  75.]]]\n",
    "```"
   ]
  },
  {
   "cell_type": "code",
   "execution_count": 19,
   "metadata": {},
   "outputs": [
    {
     "name": "stdout",
     "output_type": "stream",
     "text": [
      "[[[1.89193187 1.22687718 1.26259857 1.98598927 1.44621086]\n",
      "  [1.64911275 1.46556859 1.96217413 1.80788053 1.38051882]\n",
      "  [1.24413499 1.18880309 1.30923462 1.91995406 1.28221702]]\n",
      "\n",
      " [[1.63108092 1.09493746 1.08862415 1.47478516 1.9207403 ]\n",
      "  [1.19434336 1.14226195 1.09152265 1.36308007 1.78710363]\n",
      "  [1.94989265 1.80426551 1.71105079 1.15865488 1.3448407 ]]]\n",
      "[[[ 75.  25.  25. 100.  25.]\n",
      "  [ 75.  25.  75.  75.  25.]\n",
      "  [ 25.  25.  25.  75.  25.]]\n",
      "\n",
      " [[ 75.  25.   0.  25.  75.]\n",
      "  [ 25.  25.  25.  25.  75.]\n",
      "  [ 75.  75.  75.  25.  25.]]]\n"
     ]
    }
   ],
   "source": [
    "print(d)\n",
    "print(f)"
   ]
  },
  {
   "cell_type": "markdown",
   "metadata": {},
   "source": [
    "#### 18. Bonus question: instead of using numbers (i.e. 0, 25, 50, 75, and 100), use string values  (\"A\", \"B\", \"C\", \"D\", and \"E\") to label the array elements. For the example above, the expected result is:\n",
    "\n",
    "```python\n",
    "[[[ 'D',  'D',  'D',  'B',  'D'],\n",
    "[ 'D',  'D',  'B',  'B',  'B'],\n",
    "[ 'D',  'B',  'D',  'D',  'D']],\n",
    "[[ 'B',  'B',  'B',  'B',  'E'],\n",
    "[ 'D',  'D',  'D',  'D',  'D'],\n",
    "[ 'B',  'D',   'A',  'D', 'D']]]\n",
    "```\n",
    "**Note**: you don't have to use Numpy in this question."
   ]
  },
  {
   "cell_type": "code",
   "execution_count": 22,
   "metadata": {},
   "outputs": [
    {
     "name": "stdout",
     "output_type": "stream",
     "text": [
      "\n",
      "\n",
      "\n",
      "1.0886241522186084\n",
      "1.4926796846465484\n",
      "1.9859892653361007\n",
      "\n",
      "\n",
      "\n",
      "[[[1.89193187 1.22687718 1.26259857 1.98598927 1.44621086]\n",
      "  [1.64911275 1.46556859 1.96217413 1.80788053 1.38051882]\n",
      "  [1.24413499 1.18880309 1.30923462 1.91995406 1.28221702]]\n",
      "\n",
      " [[1.63108092 1.09493746 1.08862415 1.47478516 1.9207403 ]\n",
      "  [1.19434336 1.14226195 1.09152265 1.36308007 1.78710363]\n",
      "  [1.94989265 1.80426551 1.71105079 1.15865488 1.3448407 ]]]\n",
      "\n",
      "\n",
      "\n",
      "[[['D' 'B' 'B' 'E' 'B']\n",
      "  ['D' 'B' 'D' 'D' 'B']\n",
      "  ['B' 'B' 'B' 'D' 'B']]\n",
      "\n",
      " [['D' 'B' 'A' 'B' 'D']\n",
      "  ['B' 'B' 'B' 'B' 'D']\n",
      "  ['D' 'D' 'D' 'B' 'B']]]\n"
     ]
    }
   ],
   "source": [
    "g = np.where(d==d_min, \"A\", d)\n",
    "g = np.where((d>d_min) & (d<d_mean), \"B\", g)\n",
    "g = np.where(d == d_mean, \"C\", g)\n",
    "g = np.where((d>d_mean) & (d<d_max) & (d<d_max), \"D\", g)\n",
    "g = np.where(d == d_max, \"E\", g)\n",
    "print(\"\\n\\n\")\n",
    "print(d_min)\n",
    "print(d_mean)\n",
    "print(d_max)\n",
    "print(\"\\n\\n\")\n",
    "print(d)\n",
    "print(\"\\n\\n\")\n",
    "print(g)\n",
    "#Cool challenge"
   ]
  },
  {
   "cell_type": "code",
   "execution_count": null,
   "metadata": {},
   "outputs": [],
   "source": []
  },
  {
   "cell_type": "code",
   "execution_count": null,
   "metadata": {},
   "outputs": [],
   "source": [
    "\n"
   ]
  },
  {
   "cell_type": "code",
   "execution_count": null,
   "metadata": {},
   "outputs": [],
   "source": []
  }
 ],
 "metadata": {
  "kernelspec": {
   "display_name": "Python 3",
   "language": "python",
   "name": "python3"
  },
  "language_info": {
   "codemirror_mode": {
    "name": "ipython",
    "version": 3
   },
   "file_extension": ".py",
   "mimetype": "text/x-python",
   "name": "python",
   "nbconvert_exporter": "python",
   "pygments_lexer": "ipython3",
   "version": "3.7.4"
  }
 },
 "nbformat": 4,
 "nbformat_minor": 2
}
