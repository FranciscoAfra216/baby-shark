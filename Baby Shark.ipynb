{
 "cells": [
  {
   "cell_type": "code",
   "execution_count": null,
   "metadata": {},
   "outputs": [],
   "source": [
    "#Baby shark, doo doo doo doo doo doo\n",
    "#Baby shark, doo doo doo doo doo doo\n",
    "#Baby shark, doo doo doo doo doo doo\n",
    "#Baby shark!\n",
    "#Mommy shark, doo doo doo doo doo doo\n",
    "#Mommy shark, doo doo doo doo doo doo\n",
    "#Mommy shark, doo doo doo doo doo doo\n",
    "#Mommy shark!\n",
    "#Daddy shark, doo doo doo doo doo doo\n",
    "#Daddy shark, doo doo doo doo doo doo\n",
    "#Daddy shark, doo doo doo doo doo doo\n",
    "#Daddy shark!\n",
    "#Grandma shark, doo doo doo doo doo doo\n",
    "#Grandma shark, doo doo doo doo doo doo\n",
    "#Grandma shark, doo doo doo doo doo doo\n",
    "#Grandma shark!\n",
    "#Grandpa shark, doo doo doo doo doo doo\n",
    "#Grandpa shark, doo doo doo doo doo doo\n",
    "#Grandpa shark, doo doo doo doo doo doo\n",
    "#Grandpa shark!\n",
    "#Let's go hunt, doo doo doo doo doo doo\n",
    "#Let's go hunt, doo doo doo doo doo doo\n",
    "#Let's go hunt, doo doo doo doo doo doo\n",
    "#Let's go hunt!\n",
    "#Run away,…"
   ]
  },
  {
   "cell_type": "code",
   "execution_count": null,
   "metadata": {},
   "outputs": [],
   "source": []
  },
  {
   "cell_type": "code",
   "execution_count": 29,
   "metadata": {
    "scrolled": true
   },
   "outputs": [
    {
     "name": "stdout",
     "output_type": "stream",
     "text": [
      "Baby shark, doo doo doo doo doo doo doo \n",
      "Baby shark, doo doo doo doo doo doo doo \n",
      "Baby shark, doo doo doo doo doo doo doo \n",
      "Baby shark! \n",
      "Mommy shark, doo doo doo doo doo doo doo \n",
      "Mommy shark, doo doo doo doo doo doo doo \n",
      "Mommy shark, doo doo doo doo doo doo doo \n",
      "Mommy shark! \n",
      "Daddy shark, doo doo doo doo doo doo doo \n",
      "Daddy shark, doo doo doo doo doo doo doo \n",
      "Daddy shark, doo doo doo doo doo doo doo \n",
      "Daddy shark! \n",
      "Grandma shark, doo doo doo doo doo doo doo \n",
      "Grandma shark, doo doo doo doo doo doo doo \n",
      "Grandma shark, doo doo doo doo doo doo doo \n",
      "Grandma shark! \n",
      "Grandpa shark, doo doo doo doo doo doo doo \n",
      "Grandpa shark, doo doo doo doo doo doo doo \n",
      "Grandpa shark, doo doo doo doo doo doo doo \n",
      "Grandpa shark! \n",
      "Let's go hunt, doo doo doo doo doo doo doo \n",
      "Let's go hunt, doo doo doo doo doo doo doo \n",
      "Let's go hunt, doo doo doo doo doo doo doo \n",
      "Let's go hunt! \n",
      "Run away,...\n"
     ]
    }
   ],
   "source": [
    "#doo = \"doo \"*7\n",
    "#starters = [\"Baby shark, \", \"Mommy shark, \", \"Daddy shark, \", \"Grandma shark, \", \"Grandpa shark, \", \"Let's go hunt, \"]\n",
    "#end = \"Run away,...\"\n",
    "\n",
    "#for starter in starters:\n",
    "#    print((starter + doo+(\"\\n\"))*3+starter.replace(\",\",\"!\"))\n",
    "#print(end)\n",
    "\n",
    "#for contest with less characters\n",
    "d = \"doo \"*7\n",
    "S = [\"Baby shark, \", \"Mommy shark, \", \"Daddy shark, \", \"Grandma shark, \", \"Grandpa shark, \", \"Let's go hunt, \"]\n",
    "e = \"Run away,...\"\n",
    "\n",
    "for s in S:\n",
    "    print((s + d+(\"\\n\"))*3+s.replace(\",\",\"!\"))\n",
    "print(e)\n",
    "\n",
    "#if function is required\n",
    "\n",
    "def song():\n",
    "    for s in S:\n",
    "        print((s + d+(\"\\n\"))*3+s.replace(\",\",\"!\"))\n",
    "    print(e)\n",
    "    \n",
    "    "
   ]
  },
  {
   "cell_type": "code",
   "execution_count": 30,
   "metadata": {},
   "outputs": [
    {
     "name": "stdout",
     "output_type": "stream",
     "text": [
      "Baby shark, doo doo doo doo doo doo doo \n",
      "Baby shark, doo doo doo doo doo doo doo \n",
      "Baby shark, doo doo doo doo doo doo doo \n",
      "Baby shark! \n",
      "Mommy shark, doo doo doo doo doo doo doo \n",
      "Mommy shark, doo doo doo doo doo doo doo \n",
      "Mommy shark, doo doo doo doo doo doo doo \n",
      "Mommy shark! \n",
      "Daddy shark, doo doo doo doo doo doo doo \n",
      "Daddy shark, doo doo doo doo doo doo doo \n",
      "Daddy shark, doo doo doo doo doo doo doo \n",
      "Daddy shark! \n",
      "Grandma shark, doo doo doo doo doo doo doo \n",
      "Grandma shark, doo doo doo doo doo doo doo \n",
      "Grandma shark, doo doo doo doo doo doo doo \n",
      "Grandma shark! \n",
      "Grandpa shark, doo doo doo doo doo doo doo \n",
      "Grandpa shark, doo doo doo doo doo doo doo \n",
      "Grandpa shark, doo doo doo doo doo doo doo \n",
      "Grandpa shark! \n",
      "Let's go hunt, doo doo doo doo doo doo doo \n",
      "Let's go hunt, doo doo doo doo doo doo doo \n",
      "Let's go hunt, doo doo doo doo doo doo doo \n",
      "Let's go hunt! \n",
      "Run away,...\n"
     ]
    }
   ],
   "source": [
    "song()"
   ]
  },
  {
   "cell_type": "code",
   "execution_count": null,
   "metadata": {},
   "outputs": [],
   "source": []
  }
 ],
 "metadata": {
  "kernelspec": {
   "display_name": "Python 3",
   "language": "python",
   "name": "python3"
  },
  "language_info": {
   "codemirror_mode": {
    "name": "ipython",
    "version": 3
   },
   "file_extension": ".py",
   "mimetype": "text/x-python",
   "name": "python",
   "nbconvert_exporter": "python",
   "pygments_lexer": "ipython3",
   "version": "3.7.4"
  }
 },
 "nbformat": 4,
 "nbformat_minor": 4
}
